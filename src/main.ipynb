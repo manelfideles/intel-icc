{
 "cells": [
  {
   "attachments": {},
   "cell_type": "markdown",
   "metadata": {},
   "source": [
    "### Setup"
   ]
  },
  {
   "cell_type": "code",
   "execution_count": null,
   "metadata": {},
   "outputs": [],
   "source": [
    "import wandb\n",
    "from lib.utils.modelUtils import ModelUtils\n",
    "from lib.utils.dataUtils import DataUtils\n",
    "from lib.utils.sweep_configs import sweep_config\n",
    "from lib.models.CNN import cnns\n",
    "import random\n",
    "import numpy as np\n",
    "import keras.backend as K\n",
    "import tensorflow as tf\n",
    "from os import environ\n",
    "\n",
    "# Set random seeds\n",
    "environ['TF_CUDNN_DETERMINISTIC'] = '1'\n",
    "random.seed(hash('setting random seeds') % 2 ** 32 - 1)\n",
    "np.random.seed(hash('improves reproducibility') % 2 ** 32 - 1)\n",
    "tf.random.set_seed(hash('so that runs are repeatable'))\n",
    "\n",
    "print(\"# GPUs Available: \", len(tf.config.list_physical_devices('GPU')))\n",
    "if len(tf.config.list_physical_devices('GPU')):\n",
    "    print('GPU Device Name', tf.test.gpu_device_name())\n",
    "\n",
    "LABELS = ['buildings', 'forest', 'glacier', 'mountain', 'sea', 'street']"
   ]
  },
  {
   "attachments": {},
   "cell_type": "markdown",
   "metadata": {},
   "source": [
    "### Data"
   ]
  },
  {
   "cell_type": "code",
   "execution_count": null,
   "metadata": {},
   "outputs": [],
   "source": [
    "data_utils = DataUtils('../data', '../outputs')\n",
    "train_data, val_data = data_utils.load_data(train = True)"
   ]
  },
  {
   "attachments": {},
   "cell_type": "markdown",
   "metadata": {},
   "source": [
    "### Model"
   ]
  },
  {
   "cell_type": "code",
   "execution_count": null,
   "metadata": {},
   "outputs": [],
   "source": [
    "K.clear_session()\n",
    "model = ModelUtils(\n",
    "    model = cnns['simple-net'],\n",
    "    training_data = train_data,\n",
    "    validation_data = val_data,\n",
    "    batch_size = 512\n",
    ")"
   ]
  },
  {
   "attachments": {},
   "cell_type": "markdown",
   "metadata": {},
   "source": [
    "### Train"
   ]
  },
  {
   "cell_type": "code",
   "execution_count": null,
   "metadata": {},
   "outputs": [],
   "source": [
    "wandb.login()\n",
    "sweep_id = wandb.sweep(sweep_config, entity='manelfideles', project=\"intel-icc\")\n",
    "wandb.agent(\n",
    "    sweep_id, \n",
    "    model.train,\n",
    "    count = 5\n",
    ")\n",
    "wandb.finish()"
   ]
  },
  {
   "attachments": {},
   "cell_type": "markdown",
   "metadata": {},
   "source": [
    "### Results"
   ]
  },
  {
   "attachments": {},
   "cell_type": "markdown",
   "metadata": {},
   "source": [
    "We're facing extreme overfitting. Validation results are several times worse than training results.\n",
    "- Use data augmentation: One way to combat overfitting is to use data augmentation. By creating variations of the training data, such as flipping or rotating the images, you can increase the size of the training set and reduce overfitting. In TensorFlow, you can use the ImageDataGenerator class to apply data augmentation.\n",
    "- Add regularization: Regularization is a technique that adds a penalty term to the loss function to discourage overfitting. In TensorFlow, you can add regularization to the convolutional and dense layers using the kernel_regularizer argument. For example, you can use L1 or L2 regularization, or a combination of both.\n",
    "- Reduce the model's complexity: If the model is too complex for the size of the dataset, it can overfit. One way to reduce the complexity of the model is to reduce the number of convolutional or dense layers, or to decrease the number of filters or neurons in each layer.\n",
    "- Increase the dropout rate: Dropout is a technique that randomly drops out some neurons during training to prevent overfitting. If the model is overfitting, you can increase the dropout rate to drop more neurons.\n",
    "- Use early stopping: Early stopping is a technique that stops the training process when the validation loss stops improving. This prevents the model from overfitting to the training data by stopping the training before the model starts to overfit. In TensorFlow, you can use the EarlyStopping callback to implement early stopping."
   ]
  }
 ],
 "metadata": {
  "kernelspec": {
   "display_name": "Python 3",
   "language": "python",
   "name": "python3"
  },
  "language_info": {
   "codemirror_mode": {
    "name": "ipython",
    "version": 3
   },
   "file_extension": ".py",
   "mimetype": "text/x-python",
   "name": "python",
   "nbconvert_exporter": "python",
   "pygments_lexer": "ipython3",
   "version": "3.10.9"
  },
  "orig_nbformat": 4,
  "vscode": {
   "interpreter": {
    "hash": "aee8b7b246df8f9039afb4144a1f6fd8d2ca17a180786b69acc140d282b71a49"
   }
  }
 },
 "nbformat": 4,
 "nbformat_minor": 2
}
